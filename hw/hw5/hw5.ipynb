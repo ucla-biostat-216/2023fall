{
 "cells": [
  {
   "cell_type": "raw",
   "metadata": {},
   "source": [
    "---\n",
    "title: Biostat 216 Homework 5\n",
    "subtitle: 'Due Nov 17 @ 11:59pm'\n",
    "format:\n",
    "  html:\n",
    "    theme: cosmo\n",
    "    embed-resources: true\n",
    "    number-sections: false\n",
    "    toc: true\n",
    "    toc-depth: 4\n",
    "    toc-location: left\n",
    "    code-fold: false\n",
    "---"
   ]
  },
  {
   "cell_type": "markdown",
   "metadata": {},
   "source": [
    "Submit a PDF (scanned/photographed from handwritten solutions, or converted from RMarkdown or Jupyter Notebook) to Gracescope on BruinLearn."
   ]
  },
  {
   "cell_type": "markdown",
   "metadata": {},
   "source": [
    "## BV exercises\n",
    "\n",
    "BV 11.5, 11.12, 11.18 11.28"
   ]
  },
  {
   "cell_type": "markdown",
   "metadata": {},
   "source": [
    "## Q1\n",
    "\n",
    "Let $\\mathbf{A} \\in \\mathbb{R}^{n \\times n}$ be a symmetric matrix. Prove that $\\langle \\mathbf{A} \\mathbf{x}, \\mathbf{y} \\rangle = \\langle \\mathbf{x}, \\mathbf{A} \\mathbf{y} \\rangle$ for all $\\mathbf{x}, \\mathbf{y} \\in \\mathbb{R}^n$. Give an example that it is not necessary true if $\\mathbf{A}$ is not symmetric."
   ]
  },
  {
   "cell_type": "markdown",
   "metadata": {},
   "source": [
    "## Q2 \n",
    "\n",
    "Find the orthogonal projector into the plane spanned by the vectors $\\begin{pmatrix} 1 \\\\ 1 \\\\ 0 \\end{pmatrix}$ and $\\begin{pmatrix} -2 \\\\ 2 \\\\ 1 \\end{pmatrix}$.   \n",
    "\n",
    "Find the orthogonal projection of the point $\\mathbf{1}_3$ into the plane spanned by the vectors $\\begin{pmatrix} 1 \\\\ 1 \\\\ 0 \\end{pmatrix}$ and $\\begin{pmatrix} -2 \\\\ 2 \\\\ 1 \\end{pmatrix}$. "
   ]
  },
  {
   "cell_type": "markdown",
   "metadata": {},
   "source": [
    "## Q3 \n",
    "\n",
    "Matrices that satisfy $\\mathbf{A}' \\mathbf{A} = \\mathbf{A} \\mathbf{A}'$ are said to be _normal_. Give an example of asymmetric (not symmetric), normal matrix. If $\\mathbf{A}$ is normal, then prove that every vector in $\\mathcal{C}(\\mathbf{A})$ is orthogonal to every vector in $\\mathcal{N}(\\mathbf{A})$. "
   ]
  },
  {
   "cell_type": "markdown",
   "metadata": {},
   "source": [
    "## Q4 \n",
    "\n",
    "Let $\\mathbf{A}$ be a symmetric matrix. Show that the system $\\mathbf{A} \\mathbf{x} = \\mathbf{b}$ has a solution if and only if $\\mathbf{b}$ is orthogonal to $\\mathcal{N}(\\mathbf{A})$. "
   ]
  },
  {
   "cell_type": "markdown",
   "metadata": {},
   "source": [
    "## Q5 \n",
    "\n",
    "Determinant.\n",
    "\n",
    "1. Find the determinant of the following two matrices without doing any computations:\n",
    "$$\n",
    "\\begin{pmatrix}\n",
    "0 & 0 & 1\\\\\n",
    "0 & 1 & 0 \\\\\n",
    "1 & 0 & 0\n",
    "\\end{pmatrix}, \\quad \\begin{pmatrix}\n",
    "0 & 0 & 1 & 0 \\\\\n",
    "0 & 1 & 0 & 0 \\\\\n",
    "1 & 0 & 0 & 0 \\\\\n",
    "0 & 0 & 0 & 1\n",
    "\\end{pmatrix}.\n",
    "$$  \n",
    "\n",
    "2. Let $\\mathbf{A} \\in \\mathbb{R}^{5 \\times 5}$ with $\\det(\\mathbf{A}) = -3$. Find $\\det(\\mathbf{A}^3)$, $\\det(\\mathbf{A}^{-1})$, and $\\det(2\\mathbf{A})$.  \n",
    "    \n",
    "3. Find the determinant of the matrix\n",
    "$\\begin{pmatrix}\n",
    "0 & 0 & 1 \\\\\n",
    "2 & 3 & 4 \\\\\n",
    "0 & 5 & 6\n",
    "\\end{pmatrix}$."
   ]
  },
  {
   "cell_type": "markdown",
   "metadata": {},
   "source": [
    "## Q6\n",
    "\n",
    "Prove the following facts about triangular and orthogonal matrices.\n",
    "\n",
    "1. The product of two upper (lower) triangular matrices is upper (lower) triangular.\n",
    "    \n",
    "2. The inverse of an upper (lower) triangular matrix is upper (lower) triangular.\n",
    "    \n",
    "3. The product of two unit upper (lower) triangular matrices is unit upper (lower) triangular.\n",
    "    \n",
    "4. The inverse of a unit upper (lower) triangular matrix is unit upper (lower) triangular.\n",
    "    \n",
    "5. An orthogonal upper (lower) triangular matrix is diagonal."
   ]
  }
 ],
 "metadata": {
  "@webio": {
   "lastCommId": null,
   "lastKernelId": null
  },
  "hide_input": false,
  "jupytext": {
   "formats": "ipynb,qmd"
  },
  "kernelspec": {
   "display_name": "Julia 1.9.3",
   "language": "julia",
   "name": "julia-1.9"
  },
  "language_info": {
   "file_extension": ".jl",
   "mimetype": "application/julia",
   "name": "julia",
   "version": "1.9.3"
  },
  "toc": {
   "colors": {
    "hover_highlight": "#DAA520",
    "running_highlight": "#FF0000",
    "selected_highlight": "#FFD700"
   },
   "moveMenuLeft": true,
   "nav_menu": {
    "height": "87px",
    "width": "252px"
   },
   "navigate_menu": true,
   "number_sections": true,
   "sideBar": true,
   "skip_h1_title": true,
   "threshold": 4,
   "toc_cell": false,
   "toc_section_display": "block",
   "toc_window_display": false,
   "widenNotebook": false
  }
 },
 "nbformat": 4,
 "nbformat_minor": 4
}
